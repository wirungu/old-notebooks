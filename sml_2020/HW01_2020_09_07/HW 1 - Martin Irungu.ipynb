{
 "cells": [
  {
   "cell_type": "markdown",
   "metadata": {},
   "source": [
    "# Grading\n",
    "1. 8/8\n",
    "2. 4/4 \n",
    "3. 5/5\n",
    "4. 3/3  \n",
    "Awesome work!  "
   ]
  },
  {
   "cell_type": "code",
   "execution_count": 1,
   "metadata": {},
   "outputs": [],
   "source": [
    "from pylab import *\n",
    "import timeit"
   ]
  },
  {
   "cell_type": "markdown",
   "metadata": {},
   "source": [
    "## Problem 1\n",
    "The formula for the present value of the cash flows $C_1, \\dots, C_n$ is $$\\sum_{i=1}^n \\frac{C_i}{(1+r)^i}.$$"
   ]
  },
  {
   "cell_type": "code",
   "execution_count": 2,
   "metadata": {},
   "outputs": [],
   "source": [
    "# Initial data\n",
    "C =  120.0 * arange(500,1200)\n",
    "r = 0.01"
   ]
  },
  {
   "cell_type": "markdown",
   "metadata": {},
   "source": [
    "### A: Python loop"
   ]
  },
  {
   "cell_type": "code",
   "execution_count": 3,
   "metadata": {},
   "outputs": [
    {
     "name": "stdout",
     "output_type": "stream",
     "text": [
      "1000 evaluations of this function take 2.001204364000003 s\n",
      "The present value of the given cashflow is 7185271.35 €\n"
     ]
    }
   ],
   "source": [
    "def for_loop(Cash, rate):\n",
    "    sum = 0\n",
    "    x = 1/(1 + rate)\n",
    "    for i in arange(0, len(Cash)):\n",
    "        sum = sum + C[i]*(x**(i+1)) # the array C starts at 0, so the exponent is one higher\n",
    "    return sum\n",
    "\n",
    "t = timeit.Timer('for_loop(C,r)', 'from __main__ import for_loop, C, r')\n",
    "print(\"1000 evaluations of this function take\", t.timeit(number=1000), \"s\")\n",
    "print(\"The present value of the given cashflow is {0:0.2f} €\".format(for_loop(C,r)))"
   ]
  },
  {
   "cell_type": "markdown",
   "metadata": {},
   "source": [
    "### B: Horner's scheme"
   ]
  },
  {
   "cell_type": "code",
   "execution_count": 4,
   "metadata": {},
   "outputs": [
    {
     "name": "stdout",
     "output_type": "stream",
     "text": [
      "1000 evaluations of this function take 0.3770770289999916 s\n",
      "The present value of the given cashflow is 7185271.35 €\n"
     ]
    }
   ],
   "source": [
    "def horners(Cash, rate):\n",
    "    sum = 0\n",
    "    x = 1/(1 + rate)\n",
    "    for i in arange(0, len(Cash)):\n",
    "        sum = sum + Cash[i]*x\n",
    "        x = x/(1 + rate)\n",
    "    return sum\n",
    "\n",
    "t = timeit.Timer('horners(C,r)', 'from __main__ import horners, C, r')\n",
    "print(\"1000 evaluations of this function take\", t.timeit(number=1000), \"s\")\n",
    "print(\"The present value of the given cashflow is {0:0.2f} €\".format(horners(C,r)))"
   ]
  },
  {
   "cell_type": "markdown",
   "metadata": {},
   "source": [
    "### C: The `polyval` function"
   ]
  },
  {
   "cell_type": "code",
   "execution_count": 5,
   "metadata": {},
   "outputs": [
    {
     "name": "stdout",
     "output_type": "stream",
     "text": [
      "1000 evaluations of this function take 0.289320883000002 s\n",
      "The present value of the given cashflow is 7185271.35 €\n"
     ]
    }
   ],
   "source": [
    "def my_polyval(Cash, rate):\n",
    "    x = 1/(1 + rate)\n",
    "    return x*polyval(Cash[::-1], x) # Reversing the cashflow array gives polyval the correct order of terms\n",
    "\n",
    "t = timeit.Timer('my_polyval(C,r)', 'from __main__ import my_polyval, C, r')\n",
    "print(\"1000 evaluations of this function take\", t.timeit(number=1000), \"s\")\n",
    "print(\"The present value of the given cashflow is {0:0.2f} €\".format(my_polyval(C,r)))"
   ]
  },
  {
   "cell_type": "markdown",
   "metadata": {},
   "source": [
    "### D: Dot product"
   ]
  },
  {
   "cell_type": "code",
   "execution_count": 6,
   "metadata": {},
   "outputs": [
    {
     "name": "stdout",
     "output_type": "stream",
     "text": [
      "1000 evaluations of this function take 0.02381686200000388 s\n",
      "The present value of the given cashflow is 7185271.35 €\n"
     ]
    }
   ],
   "source": [
    "def dot_product(Cash, rate):\n",
    "    i = arange(1, len(Cash)+1)\n",
    "    x = 1/(1 + rate)\n",
    "    return dot(Cash, x**i)\n",
    "\n",
    "t = timeit.Timer('dot_product(C,r)', 'from __main__ import dot_product, C, r')\n",
    "print(\"1000 evaluations of this function take\", t.timeit(number=1000), \"s\")\n",
    "print(\"The present value of the given cashflow is {0:0.2f} €\".format(dot_product(C,r)))"
   ]
  },
  {
   "cell_type": "markdown",
   "metadata": {},
   "source": [
    "## Problem 2\n",
    "See hand-in"
   ]
  },
  {
   "cell_type": "markdown",
   "metadata": {},
   "source": [
    "## Problem 3"
   ]
  },
  {
   "cell_type": "code",
   "execution_count": 7,
   "metadata": {},
   "outputs": [
    {
     "name": "stdout",
     "output_type": "stream",
     "text": [
      "Month Interest Payment Principal Paid Remaining Principal\n",
      "1     833.33           1696.08          498303.92       \n",
      "2     830.51           1698.91          496605.01       \n",
      "3     827.68           1701.74          494903.26       \n",
      "4     824.84           1704.58          493198.69       \n",
      "5     822.00           1707.42          491491.27       \n",
      "6     819.15           1710.26          489781.00       \n",
      "7     816.30           1713.12          488067.89       \n",
      "8     813.45           1715.97          486351.92       \n",
      "9     810.59           1718.83          484633.09       \n",
      "10    807.72           1721.69          482911.39       \n",
      "11    804.85           1724.56          481186.83       \n",
      "12    801.98           1727.44          479459.39       \n",
      "13    799.10           1730.32          477729.07       \n",
      "14    796.22           1733.20          475995.87       \n",
      "15    793.33           1736.09          474259.78       \n",
      "16    790.43           1738.98          472520.80       \n",
      "17    787.53           1741.88          470778.92       \n",
      "18    784.63           1744.79          469034.13       \n",
      "19    781.72           1747.69          467286.44       \n",
      "20    778.81           1750.61          465535.83       \n",
      "21    775.89           1753.52          463782.31       \n",
      "22    772.97           1756.45          462025.86       \n",
      "23    770.04           1759.37          460266.49       \n",
      "24    767.11           1762.31          458504.18       \n",
      "25    764.17           1765.24          456738.94       \n",
      "26    761.23           1768.19          454970.75       \n",
      "27    758.28           1771.13          453199.62       \n",
      "28    755.33           1774.08          451425.54       \n",
      "29    752.38           1777.04          449648.50       \n",
      "30    749.41           1780.00          447868.49       \n",
      "31    746.45           1782.97          446085.53       \n",
      "32    743.48           1785.94          444299.58       \n",
      "33    740.50           1788.92          442510.67       \n",
      "34    737.52           1791.90          440718.77       \n",
      "35    734.53           1794.89          438923.88       \n",
      "36    731.54           1797.88          437126.01       \n",
      "37    728.54           1800.87          435325.13       \n",
      "38    725.54           1803.87          433521.26       \n",
      "39    722.54           1806.88          431714.38       \n",
      "40    719.52           1809.89          429904.48       \n",
      "41    716.51           1812.91          428091.57       \n",
      "42    713.49           1815.93          426275.64       \n",
      "43    710.46           1818.96          424456.69       \n",
      "44    707.43           1821.99          422634.70       \n",
      "45    704.39           1825.03          420809.67       \n",
      "46    701.35           1828.07          418981.60       \n",
      "47    698.30           1831.11          417150.49       \n",
      "48    695.25           1834.17          415316.32       \n",
      "49    692.19           1837.22          413479.10       \n",
      "50    689.13           1840.28          411638.82       \n",
      "51    686.06           1843.35          409795.47       \n",
      "52    682.99           1846.42          407949.04       \n",
      "53    679.92           1849.50          406099.54       \n",
      "54    676.83           1852.58          404246.96       \n",
      "55    673.74           1855.67          402391.28       \n",
      "56    670.65           1858.76          400532.52       \n",
      "57    667.55           1861.86          398670.66       \n",
      "58    664.45           1864.97          396805.69       \n",
      "59    661.34           1868.07          394937.62       \n",
      "60    658.23           1871.19          393066.43       \n",
      "61    655.11           1874.31          391192.12       \n",
      "62    651.99           1877.43          389314.69       \n",
      "63    648.86           1880.56          387434.14       \n",
      "64    645.72           1883.69          385550.44       \n",
      "65    642.58           1886.83          383663.61       \n",
      "66    639.44           1889.98          381773.63       \n",
      "67    636.29           1893.13          379880.50       \n",
      "68    633.13           1896.28          377984.22       \n",
      "69    629.97           1899.44          376084.78       \n",
      "70    626.81           1902.61          374182.17       \n",
      "71    623.64           1905.78          372276.39       \n",
      "72    620.46           1908.96          370367.43       \n",
      "73    617.28           1912.14          368455.30       \n",
      "74    614.09           1915.32          366539.97       \n",
      "75    610.90           1918.52          364621.46       \n",
      "76    607.70           1921.71          362699.74       \n",
      "77    604.50           1924.92          360774.82       \n",
      "78    601.29           1928.13          358846.70       \n",
      "79    598.08           1931.34          356915.36       \n",
      "80    594.86           1934.56          354980.80       \n",
      "81    591.63           1937.78          353043.02       \n",
      "82    588.41           1941.01          351102.01       \n",
      "83    585.17           1944.25          349157.76       \n",
      "84    581.93           1947.49          347210.28       \n",
      "85    578.68           1950.73          345259.54       \n",
      "86    575.43           1953.98          343305.56       \n",
      "87    572.18           1957.24          341348.32       \n",
      "88    568.91           1960.50          339387.81       \n",
      "89    565.65           1963.77          337424.04       \n",
      "90    562.37           1967.04          335457.00       \n",
      "91    559.10           1970.32          333486.68       \n",
      "92    555.81           1973.61          331513.07       \n",
      "93    552.52           1976.89          329536.18       \n",
      "94    549.23           1980.19          327555.99       \n",
      "95    545.93           1983.49          325572.50       \n",
      "96    542.62           1986.80          323585.70       \n",
      "97    539.31           1990.11          321595.60       \n",
      "98    535.99           1993.42          319602.17       \n",
      "99    532.67           1996.75          317605.43       \n",
      "100   529.34           2000.07          315605.35       \n",
      "101   526.01           2003.41          313601.94       \n",
      "102   522.67           2006.75          311595.20       \n",
      "103   519.33           2010.09          309585.11       \n",
      "104   515.98           2013.44          307571.66       \n",
      "105   512.62           2016.80          305554.87       \n",
      "106   509.26           2020.16          303534.71       \n",
      "107   505.89           2023.53          301511.18       \n",
      "108   502.52           2026.90          299484.29       \n",
      "109   499.14           2030.28          297454.01       \n",
      "110   495.76           2033.66          295420.35       \n",
      "111   492.37           2037.05          293383.30       \n",
      "112   488.97           2040.44          291342.86       \n",
      "113   485.57           2043.85          289299.01       \n",
      "114   482.17           2047.25          287251.76       \n",
      "115   478.75           2050.66          285201.09       \n",
      "116   475.34           2054.08          283147.01       \n",
      "117   471.91           2057.50          281089.51       \n",
      "118   468.48           2060.93          279028.57       \n",
      "119   465.05           2064.37          276964.20       \n",
      "120   461.61           2067.81          274896.39       \n",
      "121   458.16           2071.26          272825.14       \n",
      "122   454.71           2074.71          270750.43       \n",
      "123   451.25           2078.17          268672.26       \n",
      "124   447.79           2081.63          266590.64       \n",
      "125   444.32           2085.10          264505.54       \n",
      "126   440.84           2088.57          262416.96       \n",
      "127   437.36           2092.06          260324.91       \n",
      "128   433.87           2095.54          258229.37       \n",
      "129   430.38           2099.03          256130.33       \n",
      "130   426.88           2102.53          254027.80       \n",
      "131   423.38           2106.04          251921.76       \n",
      "132   419.87           2109.55          249812.21       \n",
      "133   416.35           2113.06          247699.15       \n",
      "134   412.83           2116.58          245582.57       \n",
      "135   409.30           2120.11          243462.45       \n",
      "136   405.77           2123.65          241338.81       \n",
      "137   402.23           2127.19          239211.62       \n",
      "138   398.69           2130.73          237080.89       \n",
      "139   395.13           2134.28          234946.61       \n",
      "140   391.58           2137.84          232808.77       \n",
      "141   388.01           2141.40          230667.37       \n",
      "142   384.45           2144.97          228522.40       \n",
      "143   380.87           2148.55          226373.85       \n",
      "144   377.29           2152.13          224221.73       \n",
      "145   373.70           2155.71          222066.01       \n",
      "146   370.11           2159.31          219906.70       \n",
      "147   366.51           2162.91          217743.80       \n",
      "148   362.91           2166.51          215577.29       \n",
      "149   359.30           2170.12          213407.17       \n",
      "150   355.68           2173.74          211233.43       \n",
      "151   352.06           2177.36          209056.07       \n",
      "152   348.43           2180.99          206875.08       \n",
      "153   344.79           2184.62          204690.45       \n",
      "154   341.15           2188.27          202502.19       \n",
      "155   337.50           2191.91          200310.27       \n",
      "156   333.85           2195.57          198114.71       \n",
      "157   330.19           2199.23          195915.48       \n",
      "158   326.53           2202.89          193712.59       \n",
      "159   322.85           2206.56          191506.03       \n",
      "160   319.18           2210.24          189295.79       \n",
      "161   315.49           2213.92          187081.87       \n",
      "162   311.80           2217.61          184864.25       \n",
      "163   308.11           2221.31          182642.94       \n",
      "164   304.40           2225.01          180417.93       \n",
      "165   300.70           2228.72          178189.21       \n",
      "166   296.98           2232.43          175956.78       \n",
      "167   293.26           2236.16          173720.62       \n",
      "168   289.53           2239.88          171480.74       \n",
      "169   285.80           2243.62          169237.12       \n",
      "170   282.06           2247.35          166989.77       \n",
      "171   278.32           2251.10          164738.67       \n",
      "172   274.56           2254.85          162483.82       \n",
      "173   270.81           2258.61          160225.21       \n",
      "174   267.04           2262.37          157962.83       \n",
      "175   263.27           2266.15          155696.69       \n",
      "176   259.49           2269.92          153426.76       \n",
      "177   255.71           2273.71          151153.06       \n",
      "178   251.92           2277.49          148875.56       \n",
      "179   248.13           2281.29          146594.27       \n",
      "180   244.32           2285.09          144309.18       \n",
      "181   240.52           2288.90          142020.28       \n",
      "182   236.70           2292.72          139727.56       \n",
      "183   232.88           2296.54          137431.02       \n",
      "184   229.05           2300.36          135130.66       \n",
      "185   225.22           2304.20          132826.46       \n",
      "186   221.38           2308.04          130518.42       \n",
      "187   217.53           2311.89          128206.54       \n",
      "188   213.68           2315.74          125890.80       \n",
      "189   209.82           2319.60          123571.20       \n",
      "190   205.95           2323.46          121247.73       \n",
      "191   202.08           2327.34          118920.40       \n",
      "192   198.20           2331.22          116589.18       \n",
      "193   194.32           2335.10          114254.08       \n",
      "194   190.42           2338.99          111915.09       \n",
      "195   186.53           2342.89          109572.19       \n",
      "196   182.62           2346.80          107225.40       \n",
      "197   178.71           2350.71          104874.69       \n",
      "198   174.79           2354.63          102520.06       \n",
      "199   170.87           2358.55          100161.51       \n",
      "200   166.94           2362.48          97799.03        \n",
      "201   163.00           2366.42          95432.62        \n",
      "202   159.05           2370.36          93062.25        \n",
      "203   155.10           2374.31          90687.94        \n",
      "204   151.15           2378.27          88309.67        \n",
      "205   147.18           2382.23          85927.44        \n",
      "206   143.21           2386.20          83541.23        \n",
      "207   139.24           2390.18          81151.05        \n",
      "208   135.25           2394.16          78756.89        \n",
      "209   131.26           2398.16          76358.73        \n",
      "210   127.26           2402.15          73956.58        \n",
      "211   123.26           2406.16          71550.42        \n",
      "212   119.25           2410.17          69140.26        \n",
      "213   115.23           2414.18          66726.07        \n",
      "214   111.21           2418.21          64307.87        \n",
      "215   107.18           2422.24          61885.63        \n",
      "216   103.14           2426.27          59459.36        \n",
      "217   99.10            2430.32          57029.04        \n",
      "218   95.05            2434.37          54594.67        \n",
      "219   90.99            2438.43          52156.24        \n",
      "220   86.93            2442.49          49713.76        \n",
      "221   82.86            2446.56          47267.19        \n",
      "222   78.78            2450.64          44816.56        \n",
      "223   74.69            2454.72          42361.83        \n",
      "224   70.60            2458.81          39903.02        \n",
      "225   66.51            2462.91          37440.11        \n",
      "226   62.40            2467.02          34973.09        \n",
      "227   58.29            2471.13          32501.96        \n",
      "228   54.17            2475.25          30026.72        \n",
      "229   50.04            2479.37          27547.35        \n",
      "230   45.91            2483.50          25063.84        \n",
      "231   41.77            2487.64          22576.20        \n",
      "232   37.63            2491.79          20084.41        \n",
      "233   33.47            2495.94          17588.47        \n",
      "234   29.31            2500.10          15088.36        \n",
      "235   25.15            2504.27          12584.09        \n",
      "236   20.97            2508.44          10075.65        \n",
      "237   16.79            2512.62          7563.03         \n",
      "238   12.61            2516.81          5046.21         \n",
      "239   8.41             2521.01          2525.21         \n",
      "240   4.21             2525.21          0.00            \n",
      "The expected monthly payment is 2529.42\n",
      "The effective interest rate is 0.02018\n"
     ]
    }
   ],
   "source": [
    "def amortization_scheduler(P, r, m, n):\n",
    "    # solve for monthly payments from formula for PV of a general annuity\n",
    "    monthly_payment = P*r/(m* (1 - (1 + r/m)**(-m*n)))\n",
    "    effective_rate = (1 + r/m)**m - 1\n",
    "    \n",
    "    months_paid = arange(1, m*n + 1)\n",
    "    \n",
    "    def remaining_principal(k):\n",
    "        # present value of remaining future cashflow after k payments\n",
    "        return monthly_payment*m*(1 - (1 + r/m)**(-n*m + k))/r\n",
    "    \n",
    "    def interest_payment(k):\n",
    "        # period interest rate times remaining principal from past period\n",
    "        return remaining_principal(k-1)*r/m\n",
    "    \n",
    "    def principal_payment(k):\n",
    "        return monthly_payment - interest_payment(k)\n",
    "    \n",
    "    print(\"Month\", \"Interest Payment\", \"Principal Paid\", \"Remaining Principal\")\n",
    "    for i in months_paid:\n",
    "        print('%-5i' % i, '%-16.2f' % interest_payment(i), '%-16.2f' % principal_payment(i), '%-16.2f' %remaining_principal(i))\n",
    "    \n",
    "    print(\"The expected monthly payment is {0:0.2f}\".format(monthly_payment))\n",
    "    print(\"The effective interest rate is {0:0.5f}\".format(effective_rate))\n",
    "\n",
    "amortization_scheduler(500000, 0.02, 12, 20)"
   ]
  },
  {
   "cell_type": "markdown",
   "metadata": {},
   "source": [
    "## Problem 4\n",
    "The internal rate of return of a given cashflow $C_1, \\cdots, C_n$ with price $P$ is the value of $r$ that solves the equation\n",
    "$$P = \\sum_{i=1}^n\\frac{C_i}{(1+r)^i}.$$"
   ]
  },
  {
   "cell_type": "code",
   "execution_count": 8,
   "metadata": {},
   "outputs": [
    {
     "name": "stdout",
     "output_type": "stream",
     "text": [
      "The internal rate of return is 1.98%\n"
     ]
    }
   ],
   "source": [
    "# Initial data\n",
    "C = 120.0 * arange(42,52)\n",
    "P = 50000.0\n",
    "\n",
    "from scipy import optimize\n",
    "\n",
    "def irr_finder(Cashflow, Price):\n",
    "    i = arange(1, len(Cashflow) + 1)\n",
    "    \n",
    "    def f(rate):\n",
    "        # Returns function whose root is the IRR\n",
    "        return dot(Cashflow, 1/(1 + rate)**i) - Price\n",
    "    \n",
    "    return optimize.brentq(f, 0, 1)\n",
    "        \n",
    "print(\"The internal rate of return is {0:0.2f}%\".format(irr_finder(C,P)*100))"
   ]
  },
  {
   "cell_type": "code",
   "execution_count": null,
   "metadata": {},
   "outputs": [],
   "source": []
  }
 ],
 "metadata": {
  "kernelspec": {
   "display_name": "Python 3",
   "language": "python",
   "name": "python3"
  },
  "language_info": {
   "codemirror_mode": {
    "name": "ipython",
    "version": 3
   },
   "file_extension": ".py",
   "mimetype": "text/x-python",
   "name": "python",
   "nbconvert_exporter": "python",
   "pygments_lexer": "ipython3",
   "version": "3.8.5"
  }
 },
 "nbformat": 4,
 "nbformat_minor": 4
}
