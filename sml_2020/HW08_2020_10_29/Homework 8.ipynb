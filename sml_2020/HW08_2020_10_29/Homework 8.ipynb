{
 "cells": [
  {
   "cell_type": "code",
   "execution_count": 1,
   "metadata": {},
   "outputs": [],
   "source": [
    "from pylab import *\n",
    "from warnings import warn\n",
    "from scipy.linalg import solve_banded\n",
    "import timeit\n",
    "from scipy.stats import norm\n",
    "from scipy.interpolate import interp1d"
   ]
  },
  {
   "cell_type": "markdown",
   "metadata": {},
   "source": [
    "## Problem 1\n",
    "### Part A: Gaussian Elimination\n",
    "The variables and notation are taken from the problem sheet.\n",
    "#### Step 1: Forward elimination:\n",
    "First the forward elimination leading to the row echelon form (this is the same as finding the upper triangular matrix in the LU decomposition). To find each successive diagonal entry $b_i'$, we subtract an appropriately scaled multiple of the previous row, in order to eliminate the $a_i$:\n",
    "$$b'_1 = b_1, \\qquad b_i' = b_i - \\frac{a_{i}c_{i-1}}{b_{i-1}}, i = 2,..,n.$$\n",
    "\n",
    "The entries $d_i$ on the right hand side must then clearly transform successively with the same scaling:\n",
    "$$d'_1 = d_1, \\qquad d_i' = d_i - \\frac{a_{i}d_{i-1}}{b_{i-1}}, i = 2,..,n.$$\n",
    "#### Step 2: Back-substitution\n",
    "We now have an upper triangular matrix, so we iteratively substitute backwards, solving for $x_i$:\n",
    "$$x_n = \\frac{d_n'}{b_n'}, \\qquad x_i = \\frac{d_i' - c_i x_{i+1}}{b_i'}$$ for $i = n-1,n-2,...,1.$\n",
    "\n",
    "### Part B: Tridiagonal solver"
   ]
  },
  {
   "cell_type": "code",
   "execution_count": 2,
   "metadata": {},
   "outputs": [],
   "source": [
    "def tridiag(a, b, c, d):\n",
    "    n = len(d)\n",
    "    ap, bp, cp, dp = a,b,c,d # modify copies of arrays instead\n",
    "    # Forward elimination\n",
    "    for i in range(1,n): # Arrays start at 0\n",
    "        bp[i] = bp[i] - ap[i-1]*cp[i-1]/bp[i-1] # ap has to be reindexed in our notation\n",
    "        dp[i] = dp[i] - ap[i-1]*dp[i-1]/bp[i-1]\n",
    "        \n",
    "    x = bp\n",
    "    x[-1] = dp[-1]/bp[-1]\n",
    "    \n",
    "    # Back substitution\n",
    "    for j in range(n-2, -1, -1):\n",
    "        x[j] = (dp[j]-cp[j]*x[j+1])/bp[j]\n",
    "        \n",
    "    return x"
   ]
  },
  {
   "cell_type": "markdown",
   "metadata": {},
   "source": [
    "### Part C: Comparison with Scipy's `solve_banded`"
   ]
  },
  {
   "cell_type": "code",
   "execution_count": 3,
   "metadata": {},
   "outputs": [
    {
     "data": {
      "text/plain": [
       "array([ True,  True,  True,  True,  True,  True,  True,  True,  True,\n",
       "        True,  True,  True,  True,  True,  True,  True,  True,  True,\n",
       "        True,  True,  True,  True,  True,  True,  True,  True,  True,\n",
       "        True,  True,  True,  True,  True,  True,  True,  True,  True,\n",
       "        True,  True,  True,  True,  True,  True,  True,  True,  True,\n",
       "        True,  True,  True,  True,  True,  True,  True,  True,  True,\n",
       "        True,  True,  True,  True,  True,  True,  True,  True,  True,\n",
       "        True,  True,  True,  True,  True,  True,  True,  True,  True,\n",
       "        True,  True,  True,  True,  True,  True,  True,  True,  True,\n",
       "        True,  True,  True,  True,  True,  True,  True,  True,  True,\n",
       "        True,  True,  True,  True,  True,  True,  True,  True,  True,\n",
       "        True,  True,  True,  True,  True,  True,  True,  True,  True,\n",
       "        True,  True,  True,  True,  True,  True,  True,  True,  True,\n",
       "        True,  True,  True,  True,  True,  True,  True,  True,  True,\n",
       "        True,  True,  True,  True,  True,  True,  True,  True,  True,\n",
       "        True,  True,  True,  True,  True,  True,  True,  True,  True,\n",
       "        True,  True,  True,  True,  True,  True,  True,  True,  True,\n",
       "        True,  True,  True,  True,  True,  True,  True,  True,  True,\n",
       "        True,  True,  True,  True,  True,  True,  True,  True,  True,\n",
       "        True,  True,  True,  True,  True,  True,  True,  True,  True,\n",
       "        True,  True,  True,  True,  True,  True,  True,  True,  True,\n",
       "        True,  True,  True,  True,  True,  True,  True,  True,  True,\n",
       "        True,  True])"
      ]
     },
     "execution_count": 3,
     "metadata": {},
     "output_type": "execute_result"
    }
   ],
   "source": [
    "seed(2)\n",
    "n = 200\n",
    "d = rand(n)\n",
    "a = -1*ones(n-1)\n",
    "c = a\n",
    "b = 4*ones(n) # modified b to make the matrix diagonally dominant, otherwise algorithm may be unstable\n",
    "\n",
    "# Generating ab matrix for solve_banded\n",
    "ab = zeros((3,n))\n",
    "ab[0,1:] = c\n",
    "ab[1,:] = b\n",
    "ab[2,:-1] = a\n",
    "\n",
    "# Checking result\n",
    "isclose(solve_banded((1,1), ab, d) - tridiag(a,b,c,d),0)"
   ]
  },
  {
   "cell_type": "code",
   "execution_count": 4,
   "metadata": {},
   "outputs": [
    {
     "name": "stdout",
     "output_type": "stream",
     "text": [
      "100 evaluations of 'tridiag' take 0.07018542196601629 s.\n",
      "100 evaluations of solve_banded take 0.0032714299741201103 s.\n"
     ]
    }
   ],
   "source": [
    "t1 = timeit.Timer('tridiag(a,b,c,d)', 'from __main__ import tridiag, a,b,c,d')\n",
    "t2 = timeit.Timer('solve_banded((1,1), ab, d)', 'from __main__ import solve_banded, ab, d')\n",
    "\n",
    "print(\"100 evaluations of 'tridiag' take\", t1.timeit(number=100), \"s.\")\n",
    "print(\"100 evaluations of solve_banded take\", t2.timeit(number=100), \"s.\")"
   ]
  },
  {
   "cell_type": "markdown",
   "metadata": {},
   "source": [
    "## Problem 2\n",
    "See PDF file in same folder.\n",
    "## Problem 3\n",
    "### Part A\n",
    "Regrouping the terms in the explicit difference scheme yields:\n",
    "\n",
    "$$V_n^{m-1} = aV_{n-1}^m + bV_n^m + cV_{n+1}^m$$\n",
    "with $$a = \\frac{\\Delta t}{2}\\left[\\left(\\frac{\\sigma}{\\Delta X}\\right)^2 - \\frac{r - \\sigma^2 / 2}{\\Delta X}  \\right ],$$\n",
    "$$b = 1 - r\\Delta t - \\left(\\frac{\\sigma}{\\Delta X}\\right)^2 \\Delta t,$$\n",
    "$$c = \\frac{\\Delta t}{2}\\left[\\left(\\frac{\\sigma}{\\Delta X}\\right)^2 + \\frac{r - \\sigma^2 / 2}{\\Delta X}  \\right ]$$ and we can iterate backwards to find $V_i^0 = V(X_i, 0),$ the call option price at time $t=0.$\n",
    "##### Boundaries\n",
    "The recursive computation above will be performed over a rectangular $(X, t)$ grid, and to be well defined everywhere we will need boundary conditions. At maturity $T, V(X, T) = C(S,T) = \\max(S - K, 0).$ We then choose lower and upper bounds $S_{min}, S_{max}$ for the stock price in the time period under consideration. With $S_{min}$ assumed to be below the strike price, we have that $V(\\log(S_{min}), t) = 0.$ Similarly, with $S_{max} \\gg K$ we assume the call will be exercised. The value is then the stock price minus the present value of the strike price. See the hand-in."
   ]
  },
  {
   "cell_type": "code",
   "execution_count": 5,
   "metadata": {},
   "outputs": [
    {
     "data": {
      "text/plain": [
       "154.69861898388828"
      ]
     },
     "execution_count": 5,
     "metadata": {},
     "output_type": "execute_result"
    }
   ],
   "source": [
    "def explicit_difference(r,sigma, S_0, K, T, time_steps):\n",
    "    S_min = 1e-4 # Avoid log(0)\n",
    "    S_max = 8*sigma*S_0*exp(T) # For typical stocks the price is very unlikely to move this far away\n",
    "    N = time_steps # number of time steps\n",
    "    time = linspace(0,T,N)\n",
    "    dt = T/N\n",
    "    X_min = log(S_min)\n",
    "    X_max = log(S_max)\n",
    "    XX = linspace(X_min, X_max, N)\n",
    "    dx = (X_max - X_min)/N\n",
    "\n",
    "    # Boundary conditions\n",
    "    IC = [max(exp(XX[i])-K,0) for i in range(len(XX))]\n",
    "    LB = zeros(N)\n",
    "    UB = S_max - K*exp(-r*(T - time))\n",
    "    \n",
    "    alpha = dt/(dx)**2\n",
    "    \n",
    "    if alpha > 0.5:\n",
    "        warn(\"The solution is unstable; dt/(dx)**2 > 0.5.\")\n",
    "    \n",
    "    a = 0.5*(alpha*sigma**2 - dt*(r - 0.5*sigma**2)/dx)\n",
    "    b = 1 - alpha*sigma**2 - r*dt\n",
    "    c = 0.5*(alpha*sigma**2 + dt*(r - 0.5*sigma**2)/dx)\n",
    "    \n",
    "    V = zeros((N,N))\n",
    "    V[:,-1] = IC\n",
    "    V[0,:] = LB\n",
    "    V[-1,:] = UB\n",
    "    \n",
    "    # Iterate backwards\n",
    "    for j in range(N-1, -1, -1):\n",
    "        V[1:-1,j-1] = a*V[:-2,j] + b*V[1:-1,j] + c*V[2:,j] \n",
    "        \n",
    "    f = interp1d(XX, V[:,0], kind='cubic')\n",
    "    return float(f(log(S_0)))\n",
    "\n",
    "explicit_difference(0.03, 0.5, 500,400,1,150)"
   ]
  },
  {
   "cell_type": "markdown",
   "metadata": {},
   "source": [
    "Comparing with the Black-Scholes price:"
   ]
  },
  {
   "cell_type": "code",
   "execution_count": 6,
   "metadata": {},
   "outputs": [
    {
     "data": {
      "text/plain": [
       "154.28305595547587"
      ]
     },
     "execution_count": 6,
     "metadata": {},
     "output_type": "execute_result"
    }
   ],
   "source": [
    "def black_scholes(r, sigma, S, K, T):\n",
    "    x = (log(S/K) + (r + 0.5*sigma**2)*T)/(sigma*sqrt(T))\n",
    "    return S*norm.cdf(x) - K*exp(-r*T)*norm.cdf(x - sigma*sqrt(T))\n",
    "black_scholes(0.03, 0.5, 500,400,1)"
   ]
  },
  {
   "cell_type": "markdown",
   "metadata": {},
   "source": [
    "### Part B:\n",
    "When $\\frac{\\Delta t}{(\\Delta X)^2} > \\frac{1}{2},$ the explicit interpolation becomes unstable:"
   ]
  },
  {
   "cell_type": "code",
   "execution_count": 7,
   "metadata": {},
   "outputs": [
    {
     "name": "stderr",
     "output_type": "stream",
     "text": [
      "<ipython-input-5-9a427b3010ef>:20: UserWarning: The solution is unstable; dt/(dx)**2 > 0.5.\n",
      "  warn(\"The solution is unstable; dt/(dx)**2 > 0.5.\")\n"
     ]
    },
    {
     "data": {
      "text/plain": [
       "-3.293279575190223e+199"
      ]
     },
     "execution_count": 7,
     "metadata": {},
     "output_type": "execute_result"
    }
   ],
   "source": [
    "explicit_difference(0.03, 0.5, 500,400,1,1500)"
   ]
  },
  {
   "cell_type": "markdown",
   "metadata": {},
   "source": [
    "## Part C\n",
    "After regrouping terms we find $$V_n^{m+1} = aV_{n-1}^m + bV_n^m + cV_{n+1}^m$$ with $$a = \\frac{\\Delta t}{2}\\left[-\\left(\\frac{\\sigma}{\\Delta X}\\right)^2 + \\frac{r - \\sigma^2 / 2}{\\Delta X}  \\right ],$$\n",
    "$$b = 1 + r\\Delta t + \\left(\\frac{\\sigma}{\\Delta X}\\right)^2 \\Delta t,$$\n",
    "$$c = -\\frac{\\Delta t}{2}\\left[\\left(\\frac{\\sigma}{\\Delta X}\\right)^2 + \\frac{r - \\sigma^2 / 2}{\\Delta X}  \\right ]$$  "
   ]
  },
  {
   "cell_type": "code",
   "execution_count": 8,
   "metadata": {},
   "outputs": [
    {
     "data": {
      "text/plain": [
       "153.13835401825057"
      ]
     },
     "execution_count": 8,
     "metadata": {},
     "output_type": "execute_result"
    }
   ],
   "source": [
    "def implicit_difference(r,sigma, S_0, K, T, time_steps):\n",
    "    S_min = 1e-4 # Avoid log(0)\n",
    "    S_max = 8*sigma*S_0*exp(T) # For normal stocks the price is very unlikely to move 8 standard deviations away\n",
    "    N = time_steps # number of time steps\n",
    "    time = linspace(0,T,N)\n",
    "    dt = T/N\n",
    "    X_min = log(S_min)\n",
    "    X_max = log(S_max)\n",
    "    XX = linspace(X_min, X_max, N)\n",
    "    dx = (X_max - X_min)/N\n",
    "\n",
    "    #Initial condition\n",
    "    IC = [max(exp(XX[i])-K,0) for i in range(len(XX))]\n",
    "    \n",
    "    alpha = dt/(dx)**2\n",
    "    \n",
    "    a = 0.5*(-alpha*sigma**2 + dt*(r - 0.5*sigma**2)/dx)\n",
    "    b = 1 + alpha*sigma**2 + r*dt\n",
    "    c = -0.5*(alpha*sigma**2 + dt*(r - 0.5*sigma**2)/dx)\n",
    "    \n",
    "    # Build tridiagonal matrix for solve_banded\n",
    "\n",
    "    A = full(N - 1, a)\n",
    "    B = r_[a+b, full(N-1, b)]\n",
    "    C = full(N - 1, c)\n",
    "    \n",
    "    ab = zeros((3,N))\n",
    "    ab[0,1:] = C\n",
    "    ab[1,:] = B\n",
    "    ab[2,:-1] = A\n",
    "    \n",
    "    option_prices = IC\n",
    "    \n",
    "    while N > 0:   \n",
    "        option_prices = solve_banded((1,1), ab, option_prices)\n",
    "        N -= 1\n",
    "        \n",
    "    # The interpolation method below does not vectorize well, so instead we just choose the closest value to log(S_0), which is not as accurate\n",
    "    \n",
    "    #f = interp1d(XX, option_prices, kind='cubic')\n",
    "    #return float(f(log(S_0)))\n",
    "    \n",
    "    def closest_index(array, number):\n",
    "        return abs(array - number).argmin()\n",
    "    \n",
    "    return option_prices[closest_index(XX, log(S_0))]\n",
    "\n",
    "implicit_difference(0.03, 0.5, 500,400,1,150)"
   ]
  },
  {
   "cell_type": "markdown",
   "metadata": {},
   "source": [
    "Unlike the explicit difference scheme, even when the time step is relatively large compared to the log-stock step, the implicit difference scheme remains stable. Here, since we are using the same number of meshpoints $N$ for $X$ and $t,$ $\\frac{\\Delta t}{(\\Delta X)^2}$ grows with $N.$"
   ]
  },
  {
   "cell_type": "code",
   "execution_count": 9,
   "metadata": {},
   "outputs": [
    {
     "data": {
      "text/plain": [
       "153.96012803725733"
      ]
     },
     "execution_count": 9,
     "metadata": {},
     "output_type": "execute_result"
    }
   ],
   "source": [
    "# Check stability, compare with same parameters given to explicit_difference in Part B\n",
    "implicit_difference(0.03, 0.5, 500,400,1,5000)"
   ]
  },
  {
   "cell_type": "markdown",
   "metadata": {},
   "source": [
    "### Part D: Order of Convergence"
   ]
  },
  {
   "cell_type": "code",
   "execution_count": 10,
   "metadata": {},
   "outputs": [
    {
     "data": {
      "image/png": "[encoded data removed]",
      "text/plain": [
       "<Figure size 432x288 with 1 Axes>"
      ]
     },
     "metadata": {
      "needs_background": "light"
     },
     "output_type": "display_data"
    }
   ],
   "source": [
    "def error(n):\n",
    "    return abs(black_scholes(0.03, 0.5, 500,400,1) - implicit_difference(0.03, 0.5, 500,400,1,n))\n",
    "\n",
    "error_vec = vectorize(error)\n",
    "\n",
    "x = array(1.2**arange(1,40),dtype=int)\n",
    "\n",
    "figure()\n",
    "rc('text', usetex=True)\n",
    "title('Loglog plot of error in implicit difference scheme')\n",
    "xlabel(r'$n$')\n",
    "ylabel(r'Error in $n$-step implicit difference scheme')\n",
    "loglog(x,error_vec(x),'*',label='Error')\n",
    "loglog(x,1500/x,label='Line of best fit') # fit a straight line, done by hand\n",
    "legend()\n",
    "show()"
   ]
  },
  {
   "cell_type": "markdown",
   "metadata": {},
   "source": [
    "We roughly obtain a straight line with slope -1, suggesting the order of convergence is 1."
   ]
  },
  {
   "cell_type": "code",
   "execution_count": null,
   "metadata": {},
   "outputs": [],
   "source": []
  }
 ],
 "metadata": {
  "kernelspec": {
   "display_name": "Python 3",
   "language": "python",
   "name": "python3"
  },
  "language_info": {
   "codemirror_mode": {
    "name": "ipython",
    "version": 3
   },
   "file_extension": ".py",
   "mimetype": "text/x-python",
   "name": "python",
   "nbconvert_exporter": "python",
   "pygments_lexer": "ipython3",
   "version": "3.8.7"
  }
 },
 "nbformat": 4,
 "nbformat_minor": 4
}
