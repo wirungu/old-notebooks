{
 "cells": [
  {
   "cell_type": "markdown",
   "metadata": {},
   "source": [
    "# Brief Introduction to SciPy (part 4)\n",
    "\n",
    "We follow the [Introduction to Scientific Python](http://math.jacobs-university.de/oliver/teaching/scipy-intro/scipy-intro.pdf) (written by Marcel **Oliver**).\n",
    "\n",
    "Today we discuss how to vectorize functions and read in csv files."
   ]
  },
  {
   "cell_type": "code",
   "execution_count": 19,
   "metadata": {},
   "outputs": [
    {
     "name": "stdout",
     "output_type": "stream",
     "text": [
      "[0 0 0 3 4]\n"
     ]
    }
   ],
   "source": [
    "from pylab import *\n",
    "\n",
    "def fct(a,b):\n",
    "    if a > b:\n",
    "        return a\n",
    "    else:\n",
    "        return 0\n",
    "\n",
    "A = arange(0,5)\n",
    "B = [9,910,8,1,1]\n",
    "\n",
    "#print(fct(A,B))\n",
    "\n",
    "vec_fct = vectorize(fct)\n",
    "\n",
    "print(vec_fct(A,B))"
   ]
  },
  {
   "cell_type": "code",
   "execution_count": 17,
   "metadata": {},
   "outputs": [
    {
     "name": "stdout",
     "output_type": "stream",
     "text": [
      "[['Student', 'Grade'], ['Ms. A', '2'], ['Mr. B', '3'], ['Ms. C', '1']]\n",
      "['Student', 'Grade']\n",
      "['Ms. A', '2']\n",
      "['Mr. B', '3']\n",
      "['Ms. C', '1']\n",
      "Student Ms. A achieved the grade 2\n",
      "Student Mr. B achieved the grade 3\n",
      "Student Ms. C achieved the grade 1\n"
     ]
    }
   ],
   "source": [
    "import csv\n",
    "\n",
    "read = csv.reader(open('test.csv', 'r'))\n",
    "\n",
    "data = [row for row in read]\n",
    "\n",
    "print(data)\n",
    "\n",
    "for row in data:\n",
    "    print(row)\n",
    "    \n",
    "for row in data:\n",
    "    if row[0] != 'Student':\n",
    "        print('Student', row[0], 'achieved the grade', row[1])"
   ]
  }
 ],
 "metadata": {
  "kernelspec": {
   "display_name": "Python 3",
   "language": "python",
   "name": "python3"
  },
  "language_info": {
   "codemirror_mode": {
    "name": "ipython",
    "version": 3
   },
   "file_extension": ".py",
   "mimetype": "text/x-python",
   "name": "python",
   "nbconvert_exporter": "python",
   "pygments_lexer": "ipython3",
   "version": "3.7.4"
  }
 },
 "nbformat": 4,
 "nbformat_minor": 2
}
