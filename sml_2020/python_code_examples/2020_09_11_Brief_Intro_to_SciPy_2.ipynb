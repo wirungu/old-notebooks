{
 "cells": [
  {
   "cell_type": "markdown",
   "metadata": {},
   "source": [
    "# Brief Introduction to SciPy (part 2)\n",
    "\n",
    "We follow the [Introduction to Scientific Python](http://math.jacobs-university.de/oliver/teaching/scipy-intro/scipy-intro.pdf) (written by Marcel **Oliver**)"
   ]
  },
  {
   "cell_type": "code",
   "execution_count": 32,
   "metadata": {},
   "outputs": [
    {
     "name": "stdout",
     "output_type": "stream",
     "text": [
      "[ 0  1  2  3  4  5  6  7  8  9 10 11 12 13 14 15 16 17 18 19]\n",
      "[3 4 5 6 7 8 9]\n",
      "[ 4  6  8 10 12 14 16]\n",
      "[17 16 15 14 13 12 11 10  9  8  7  6  5]\n",
      "[19 18 17 16 15 14 13 12 11 10  9  8  7  6  5  4  3  2  1  0]\n"
     ]
    }
   ],
   "source": [
    "# A note on array manipulation\n",
    "\n",
    "a = arange(20)\n",
    "print(a)\n",
    "print(a[3:10])\n",
    "print(a[4:17:2])\n",
    "print(a[17:4:-1])\n",
    "print(a[::-1])"
   ]
  },
  {
   "cell_type": "code",
   "execution_count": 26,
   "metadata": {},
   "outputs": [],
   "source": [
    "from pylab import *"
   ]
  },
  {
   "cell_type": "code",
   "execution_count": 46,
   "metadata": {},
   "outputs": [
    {
     "name": "stdout",
     "output_type": "stream",
     "text": [
      "4363.85738\n",
      "|4363.85738|\n",
      "|   4363.86|  47728.95|   8989.29|\n",
      "|       423|\n",
      "5.002464e+11\n",
      "|0         |      0.00|      0.00|\n",
      "|1         |      0.08|      0.01|\n",
      "|2         |      0.17|      0.03|\n",
      "|3         |      0.25|      0.06|\n",
      "|4         |      0.33|      0.11|\n",
      "|5         |      0.42|      0.17|\n",
      "|6         |      0.50|      0.25|\n",
      "|7         |      0.58|      0.34|\n",
      "|8         |      0.67|      0.44|\n",
      "|9         |      0.75|      0.56|\n",
      "|10        |      0.83|      0.69|\n",
      "|11        |      0.92|      0.84|\n",
      "|12        |      1.00|      1.00|\n"
     ]
    }
   ],
   "source": [
    "# Formatting\n",
    "\n",
    "print(\"{0:10.5f}\".format(4363.85738282))\n",
    "print(\"|{some_number:10.5f}|\".format(some_number = 4363.85738282))\n",
    "print(\"|{0:10.2f}|{1:10.2f}|{2:10.2f}|\".format(4363.85738282, 47728.9482727, 8989.29292929))\n",
    "print(\"|{0:10d}|\".format(423))\n",
    "print(\"{0:3e}\".format(29**8))\n",
    "\n",
    "# => numerous possibilities for formatting, just look up what you need\n",
    "\n",
    "# a simple table:\n",
    "b = linspace(0,1,13)\n",
    "for i in arange(0,13):\n",
    "    print(\"|{0:<10d}|{1:10.2f}|{2:10.2f}|\".format(i,b[i],b[i]**2))"
   ]
  },
  {
   "cell_type": "code",
   "execution_count": 24,
   "metadata": {},
   "outputs": [
    {
     "name": "stdout",
     "output_type": "stream",
     "text": [
      "[1 1 1]\n",
      "[42  1  1]\n",
      "[42  1  1]\n",
      "42\n",
      "3.141592653589793\n"
     ]
    }
   ],
   "source": [
    "# A note of caution: variable assignment in python is by reference!\n",
    "\n",
    "a = array([1,1,1])\n",
    "print(a)\n",
    "b = a\n",
    "#b = a.copy() # if you want to force a copy\n",
    "a[0] = 42\n",
    "print(a)\n",
    "print(b)\n",
    "# arrays are mutable objects: they are just references to some memory region\n",
    "# (this makes sense if you are dealing with large data sets)\n",
    "\n",
    "a = pi\n",
    "b = a\n",
    "a = 42\n",
    "print(a)\n",
    "print(b)\n",
    "# some constants and numbers and strings are immutable"
   ]
  },
  {
   "cell_type": "code",
   "execution_count": null,
   "metadata": {},
   "outputs": [],
   "source": []
  }
 ],
 "metadata": {
  "kernelspec": {
   "display_name": "Python 3",
   "language": "python",
   "name": "python3"
  },
  "language_info": {
   "codemirror_mode": {
    "name": "ipython",
    "version": 3
   },
   "file_extension": ".py",
   "mimetype": "text/x-python",
   "name": "python",
   "nbconvert_exporter": "python",
   "pygments_lexer": "ipython3",
   "version": "3.7.4"
  }
 },
 "nbformat": 4,
 "nbformat_minor": 2
}
